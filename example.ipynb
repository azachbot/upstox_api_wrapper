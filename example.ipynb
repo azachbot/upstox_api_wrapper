{
 "cells": [
  {
   "cell_type": "code",
   "execution_count": null,
   "metadata": {},
   "outputs": [],
   "source": [
    "!pip install uwrapper==0.0.8"
   ]
  },
  {
   "cell_type": "code",
   "execution_count": null,
   "metadata": {},
   "outputs": [],
   "source": [
    "#To login and get access token\n",
    "import uwrapper\n",
    "apikey=input(\"Enter apikey\")\n",
    "secretkey=input(\"Enter secret key\")\n",
    "rurl=input(\"Enter redirect uri\")\n",
    "access_token=uwrapper.login(apikey,secretkey,rurl)"
   ]
  },
  {
   "cell_type": "code",
   "execution_count": null,
   "metadata": {},
   "outputs": [],
   "source": [
    "#To fetch  instruments files in CSV format.Accepted values are \"NSE\", \"BSE\", \"MCX\", or \"complete\"\n",
    "import uwrapper\n",
    "uwrapper.download_instrument_file_csv(\"NSE\") "
   ]
  }
 ],
 "metadata": {
  "kernelspec": {
   "display_name": "base",
   "language": "python",
   "name": "python3"
  },
  "language_info": {
   "codemirror_mode": {
    "name": "ipython",
    "version": 3
   },
   "file_extension": ".py",
   "mimetype": "text/x-python",
   "name": "python",
   "nbconvert_exporter": "python",
   "pygments_lexer": "ipython3",
   "version": "3.8.8"
  }
 },
 "nbformat": 4,
 "nbformat_minor": 2
}
