{
 "cells": [
  {
   "cell_type": "markdown",
   "metadata": {},
   "source": [
    "Install uwrapper"
   ]
  },
  {
   "cell_type": "code",
   "execution_count": null,
   "metadata": {},
   "outputs": [],
   "source": [
    "!pip install uwrapper==0.0.8"
   ]
  },
  {
   "cell_type": "markdown",
   "metadata": {},
   "source": [
    "Import uwrapper"
   ]
  },
  {
   "cell_type": "code",
   "execution_count": null,
   "metadata": {},
   "outputs": [],
   "source": [
    "import uwrapper"
   ]
  },
  {
   "cell_type": "markdown",
   "metadata": {},
   "source": [
    "Provide values for apikey,secretkey and rurl.\n",
    "( https://www.youtube.com/watch?v=g8siFBWjltM -You can refer this video for apikey,secretkey and rurl.This video is not created by me,but I found this helpful)"
   ]
  },
  {
   "cell_type": "code",
   "execution_count": null,
   "metadata": {},
   "outputs": [],
   "source": [
    "\n",
    "apikey=input(\"Enter apikey\")\n",
    "secretkey=input(\"Enter secret key\")\n",
    "rurl=input(\"Enter redirect uri\")\n"
   ]
  },
  {
   "cell_type": "markdown",
   "metadata": {},
   "source": [
    "Getting access token\n",
    "\n",
    "While executing the code block below, you will need to provide a code. To obtain the code, follow these steps:\n",
    "1.Run the next code block to generate a link.\n",
    "2.Open the generated link in your browser.\n",
    "3.Provide your phone number, OTP, and your Upstox 6-digit code.\n",
    "4.This will result in a failed page.\n",
    "5.Copy the code from the failed page URL.\n",
    "For example, if the URL of the failed page is https://127.0.0.1:5000/?code=E-ahgb, the code is E-ahgb.\n",
    "\n",
    "Copy the code and enter it as the value for code.\n"
   ]
  },
  {
   "cell_type": "code",
   "execution_count": null,
   "metadata": {},
   "outputs": [],
   "source": [
    "access_token=uwrapper.login(apikey,secretkey,rurl)"
   ]
  },
  {
   "cell_type": "markdown",
   "metadata": {},
   "source": [
    "To fetch  instruments files in CSV format.Accepted values are \"NSE\", \"BSE\", \"MCX\", or \"complete\""
   ]
  },
  {
   "cell_type": "code",
   "execution_count": null,
   "metadata": {},
   "outputs": [],
   "source": [
    "uwrapper.download_instrument_file_csv(\"NSE\") "
   ]
  }
 ],
 "metadata": {
  "kernelspec": {
   "display_name": "base",
   "language": "python",
   "name": "python3"
  },
  "language_info": {
   "codemirror_mode": {
    "name": "ipython",
    "version": 3
   },
   "file_extension": ".py",
   "mimetype": "text/x-python",
   "name": "python",
   "nbconvert_exporter": "python",
   "pygments_lexer": "ipython3",
   "version": "3.8.8"
  }
 },
 "nbformat": 4,
 "nbformat_minor": 2
}
